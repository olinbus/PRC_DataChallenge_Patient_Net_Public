{
 "cells": [
  {
   "cell_type": "markdown",
   "id": "3090fd6a-a6c4-4096-b9d8-35e7f7d4fb1a",
   "metadata": {},
   "source": [
    "# Load and display team info from JSON file"
   ]
  },
  {
   "cell_type": "code",
   "execution_count": null,
   "id": "5bc7d26c-acde-40b9-8859-2ce7fd639a58",
   "metadata": {},
   "outputs": [],
   "source": [
    "import json"
   ]
  },
  {
   "cell_type": "code",
   "execution_count": null,
   "id": "558903b0-de28-4c39-830a-6e71f52cb3b2",
   "metadata": {},
   "outputs": [],
   "source": [
    "with open('response_XXXXXXXXXXXXX.json') as f:\n",
    "   team = json.load(f)\n",
    "print(team)"
   ]
  },
  {
   "cell_type": "code",
   "execution_count": null,
   "id": "470029c4-53cb-45a4-b104-7a75f439823b",
   "metadata": {
    "editable": true,
    "slideshow": {
     "slide_type": ""
    },
    "tags": []
   },
   "outputs": [],
   "source": [
    "#access_key = (team['bucket_access_key'])\n",
    "#secret_key = (team['bucket_access_secret'])\n",
    "#print(access_key)\n",
    "#print(secret_key)"
   ]
  },
  {
   "cell_type": "markdown",
   "id": "eaeca284-f815-427c-b030-27d81ebdd646",
   "metadata": {},
   "source": [
    "# Download data from OpenSky S3 buckets"
   ]
  },
  {
   "cell_type": "code",
   "execution_count": null,
   "id": "4cb07a47-ee2f-4600-aa29-a5bd8f231ad6",
   "metadata": {},
   "outputs": [],
   "source": [
    "# For Operating System commands\n",
    "import os\n",
    "# For high-level file operations\n",
    "import shutil\n",
    "\n",
    "import urllib3 # FIXME: only needed to disable InsecureRequestWarning\n",
    "\n",
    "from pyopensky.config import opensky_config_dir\n",
    "#\n",
    "from traffic.core import Traffic\n",
    "\n",
    "print(opensky_config_dir)"
   ]
  },
  {
   "cell_type": "code",
   "execution_count": null,
   "id": "400a12dc-a1c7-4e14-b550-8af34466efeb",
   "metadata": {},
   "outputs": [],
   "source": [
    "from pyopensky.s3 import S3Client"
   ]
  },
  {
   "cell_type": "code",
   "execution_count": null,
   "id": "23d7af4c-7dd0-4a4a-8d1a-378b7fbd0db1",
   "metadata": {},
   "outputs": [],
   "source": [
    "s3 = S3Client(cert_check=False) # FIXME: No cert checking: not nice\n",
    "urllib3.disable_warnings() # FIXME: Not nice\n",
    "\n",
    "# Local path to (capied) *.parquet files\n",
    "strPqtLocPath = '.'\n",
    "# Target pathfor filtered & resampled *.parquet files\n",
    "strTgtPath = 'local_parquet_clean'\n",
    "\n",
    "# Target sampling rate\n",
    "strResample = '10s'"
   ]
  },
  {
   "cell_type": "code",
   "execution_count": null,
   "id": "7c93d386-4736-4902-9d24-5333641cd84e",
   "metadata": {},
   "outputs": [],
   "source": [
    "allobj = []"
   ]
  },
  {
   "cell_type": "code",
   "execution_count": null,
   "id": "e8085ff7-62d5-46fb-8587-390cf9a1880a",
   "metadata": {},
   "outputs": [],
   "source": [
    "for obj in s3.s3client.list_objects(\"competition-data\", recursive=True):\n",
    "    print(f\"{obj.bucket_name=}, {obj.object_name=}\")\n",
    "    allobj.append(obj)   \n",
    "\n",
    "    # Assemble *.parquet path names\n",
    "    strFile = obj.object_name\n",
    "    strLocFullFile = os.path.join(strPqtLocPath, strFile)\n",
    "    strTgtFullFile = os.path.join(strTgtPath, strFile)\n",
    "    \n",
    "    if os.path.isfile(strTgtFullFile):\n",
    "        print('Skipping download, as already here: ' + strTgtFullFile)\n",
    "    else:\n",
    "        print('Download required ...')\n",
    "        s3.download_object(obj)\n",
    "        print(strLocFullFile)\n",
    "  \n",
    "        # Load *.parquet file into traffic object\n",
    "        t = Traffic.from_file(strLocFullFile)\n",
    "        # clean = filter + resample\n",
    "        # t_clean = t.filter().resample(strResample).eval()\n",
    "        # clean = filter + only first 20min + resample\n",
    "        t_clean = t.first(minutes=20).filter().resample(strResample).eval()\n",
    "        # Save clean traffic object as  *.parquet file\n",
    "        print('Cleaned file will be saved here: ' + strTgtFullFile)\n",
    "        t_clean.to_parquet(strTgtFullFile)\n",
    "        # Delete temporary local file\n",
    "        os.remove(strLocFullFile)"
   ]
  },
  {
   "cell_type": "code",
   "execution_count": null,
   "id": "5e9b5eeb-eefb-4594-9df7-ffbb5a92d6c7",
   "metadata": {},
   "outputs": [],
   "source": [
    "len(allobj)"
   ]
  },
  {
   "cell_type": "code",
   "execution_count": null,
   "id": "66a752cf-7ec7-402e-8fb4-565009297240",
   "metadata": {},
   "outputs": [],
   "source": []
  }
 ],
 "metadata": {
  "kernelspec": {
   "display_name": "Python 3 (ipykernel)",
   "language": "python",
   "name": "python3"
  },
  "language_info": {
   "codemirror_mode": {
    "name": "ipython",
    "version": 3
   },
   "file_extension": ".py",
   "mimetype": "text/x-python",
   "name": "python",
   "nbconvert_exporter": "python",
   "pygments_lexer": "ipython3",
   "version": "3.10.10"
  }
 },
 "nbformat": 4,
 "nbformat_minor": 5
}
